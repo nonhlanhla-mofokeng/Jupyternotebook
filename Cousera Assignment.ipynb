{
 "cells": [
  {
   "cell_type": "markdown",
   "id": "935272dd",
   "metadata": {},
   "source": [
    " # Title: Data Science Tools and Ecosystem"
   ]
  },
  {
   "cell_type": "markdown",
   "id": "a09f0b83",
   "metadata": {},
   "source": [
    "In this notebook, Data Science Tools and Ecosystem are summurized."
   ]
  },
  {
   "cell_type": "markdown",
   "id": "550a493a",
   "metadata": {},
   "source": [
    "Some of the popular languages that Data Scientists use are:\n",
    "* R\n",
    "* SQL\n",
    "* Python"
   ]
  },
  {
   "cell_type": "markdown",
   "id": "315e6721",
   "metadata": {},
   "source": [
    " # Objectives:\n",
    " * Creating a Jupyter Notebook\n",
    " * Instering code and creating Markdowns\n",
    " * Sharing the notebook via Github"
   ]
  },
  {
   "cell_type": "markdown",
   "id": "434ce357",
   "metadata": {},
   "source": [
    "Some of the commonly used libraries used by Data Scientists include:\n",
    "\n",
    "1.Pandas\n",
    "\n",
    "2.NumPy\n",
    "\n",
    "3.TensorFlow"
   ]
  },
  {
   "cell_type": "markdown",
   "id": "9ea08a3c",
   "metadata": {},
   "source": [
    "|Data Science Tools|\n",
    "|------------------|\n",
    "|Jupyter Notebook  |  \n",
    "| RStudio          |\n",
    "|Anaconda          |"
   ]
  },
  {
   "cell_type": "markdown",
   "id": "305f4c69",
   "metadata": {},
   "source": [
    "###  Below are a few examples of evaluating arithmetic expressions in Python"
   ]
  },
  {
   "cell_type": "code",
   "execution_count": 2,
   "id": "59066ba4",
   "metadata": {},
   "outputs": [
    {
     "data": {
      "text/plain": [
       "17"
      ]
     },
     "execution_count": 2,
     "metadata": {},
     "output_type": "execute_result"
    }
   ],
   "source": [
    "# This is a simple arithmetic expression to multiply then add integers.\n",
    "(3*4)+5"
   ]
  },
  {
   "cell_type": "code",
   "execution_count": 3,
   "id": "e9cd753e",
   "metadata": {},
   "outputs": [
    {
     "data": {
      "text/plain": [
       "3.3333333333333335"
      ]
     },
     "execution_count": 3,
     "metadata": {},
     "output_type": "execute_result"
    }
   ],
   "source": [
    "# This will convert 200 minutes to hours by dividing by 60\n",
    "200/60"
   ]
  },
  {
   "cell_type": "markdown",
   "id": "ea2df117",
   "metadata": {},
   "source": [
    "## Author\n",
    "Nonhlanhla Mofokeng"
   ]
  },
  {
   "cell_type": "code",
   "execution_count": null,
   "id": "238eff3f",
   "metadata": {},
   "outputs": [],
   "source": []
  }
 ],
 "metadata": {
  "kernelspec": {
   "display_name": "Python 3 (ipykernel)",
   "language": "python",
   "name": "python3"
  },
  "language_info": {
   "codemirror_mode": {
    "name": "ipython",
    "version": 3
   },
   "file_extension": ".py",
   "mimetype": "text/x-python",
   "name": "python",
   "nbconvert_exporter": "python",
   "pygments_lexer": "ipython3",
   "version": "3.10.9"
  }
 },
 "nbformat": 4,
 "nbformat_minor": 5
}
